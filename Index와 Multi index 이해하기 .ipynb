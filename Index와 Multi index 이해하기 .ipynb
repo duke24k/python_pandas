{
 "cells": [
  {
   "cell_type": "markdown",
   "metadata": {},
   "source": [
    "## Index와 MultiIndex 처리 기준\n"
   ]
  },
  {
   "cell_type": "code",
   "execution_count": 1,
   "metadata": {
    "collapsed": true
   },
   "outputs": [],
   "source": [
    "import pandas as pd"
   ]
  },
  {
   "cell_type": "code",
   "execution_count": 2,
   "metadata": {
    "collapsed": false
   },
   "outputs": [
    {
     "data": {
      "text/plain": [
       "pandas.indexes.base.Index"
      ]
     },
     "execution_count": 2,
     "metadata": {},
     "output_type": "execute_result"
    }
   ],
   "source": [
    "pd.Index"
   ]
  },
  {
   "cell_type": "code",
   "execution_count": 3,
   "metadata": {
    "collapsed": false
   },
   "outputs": [
    {
     "data": {
      "text/plain": [
       "pandas.indexes.multi.MultiIndex"
      ]
     },
     "execution_count": 3,
     "metadata": {},
     "output_type": "execute_result"
    }
   ],
   "source": [
    "pd.MultiIndex"
   ]
  },
  {
   "cell_type": "markdown",
   "metadata": {},
   "source": [
    "## index 클래스 처리 \n"
   ]
  },
  {
   "cell_type": "code",
   "execution_count": 20,
   "metadata": {
    "collapsed": false
   },
   "outputs": [
    {
     "name": "stdout",
     "output_type": "stream",
     "text": [
      "Index(['blue', 'red'], dtype='object', name=['color'])\n"
     ]
    }
   ],
   "source": [
    "sl = pd.Index(['blue', 'red'],\n",
    "           name=[ 'color'])\n",
    "print(sl)"
   ]
  },
  {
   "cell_type": "code",
   "execution_count": null,
   "metadata": {
    "collapsed": true
   },
   "outputs": [],
   "source": [
    "###  정수 인덱스 생성 "
   ]
  },
  {
   "cell_type": "code",
   "execution_count": 21,
   "metadata": {
    "collapsed": false
   },
   "outputs": [
    {
     "name": "stdout",
     "output_type": "stream",
     "text": [
      "Int64Index([1, 2], dtype='int64')\n",
      "Int64Index([1, 2, 3, 4], dtype='int64') Int64Index([3, 4, 5, 6], dtype='int64')\n",
      "Int64Index([1, 2], dtype='int64')\n"
     ]
    }
   ],
   "source": [
    "import pandas as pd\n",
    "\n",
    "idx1 = pd.Index([1, 2, 3, 4])\n",
    "idx2 = pd.Index([3, 4, 5, 6])\n",
    "print(idx1.difference(idx2))\n",
    "print(idx1, idx2)\n",
    "idx3 = pd.Int64Index([1, 2], dtype='int64')\n",
    "print(idx3)\n"
   ]
  },
  {
   "cell_type": "code",
   "execution_count": 22,
   "metadata": {
    "collapsed": false
   },
   "outputs": [
    {
     "name": "stdout",
     "output_type": "stream",
     "text": [
      "Index(['a', 'b', 'c'], dtype='object')\n"
     ]
    }
   ],
   "source": [
    "import pandas as pd\n",
    "\n",
    "idx4 = pd.Index(['a', 'b','c'])\n",
    "print(idx4)\n"
   ]
  },
  {
   "cell_type": "code",
   "execution_count": 23,
   "metadata": {
    "collapsed": false
   },
   "outputs": [
    {
     "name": "stdout",
     "output_type": "stream",
     "text": [
      "DatetimeIndex(['2013-01-01', '2013-01-02', '2013-01-03'], dtype='datetime64[ns]', freq='D')\n"
     ]
    }
   ],
   "source": [
    "import pandas as pd\n",
    "\n",
    "idx5 = pd.Index(pd.date_range('20130101',periods=3)) \n",
    "print(idx5)\n"
   ]
  },
  {
   "cell_type": "markdown",
   "metadata": {},
   "source": [
    "## MultiIndex 클래스 처리"
   ]
  },
  {
   "cell_type": "markdown",
   "metadata": {},
   "source": [
    "#### Levels, labels, names으로 분리해서 접근할 수 있는 정보를 관리 \n"
   ]
  },
  {
   "cell_type": "code",
   "execution_count": 5,
   "metadata": {
    "collapsed": false
   },
   "outputs": [
    {
     "name": "stdout",
     "output_type": "stream",
     "text": [
      "MultiIndex(levels=[[1, 2], ['blue', 'red']],\n",
      "           labels=[[0, 0, 1, 1], [1, 0, 1, 0]],\n",
      "           names=['number', 'color'])\n"
     ]
    }
   ],
   "source": [
    "ml = pd.MultiIndex(levels=[[1, 2],['blue', 'red']],\n",
    "           labels=[[0, 0, 1, 1], [1, 0, 1, 0]],\n",
    "           names=['number', 'color'])\n",
    "print(ml)"
   ]
  },
  {
   "cell_type": "markdown",
   "metadata": {},
   "source": [
    "##### Tuple 형태로 전달시 \n",
    "\n",
    "    계층에 대한 이름(levels), 각 이름별 계층 위치(labels) 그리고 level에 대한 이름(names)\n"
   ]
  },
  {
   "cell_type": "code",
   "execution_count": 6,
   "metadata": {
    "collapsed": false
   },
   "outputs": [
    {
     "name": "stdout",
     "output_type": "stream",
     "text": [
      "MultiIndex(levels=[[1, 2], ['blue', 'red']],\n",
      "           labels=[[0, 0, 1, 1], [1, 0, 1, 0]],\n",
      "           names=['number', 'color'])\n"
     ]
    }
   ],
   "source": [
    "import pandas as pd\n",
    "\n",
    "tuples = [(1, 'red'), (1, 'blue'), (2, 'red'), (2, 'blue')]\n",
    "mi = pd.MultiIndex.from_tuples(tuples, names=('number', 'color'))\n",
    "print(mi)\n"
   ]
  },
  {
   "cell_type": "markdown",
   "metadata": {},
   "source": [
    "#### List로 lable 형태로 전달시 \n",
    "\n",
    "    계층에 대한 이름(levels), 각 이름별 계층 위치(labels) 그리고 level에 대한 이름(names)\n"
   ]
  },
  {
   "cell_type": "code",
   "execution_count": 7,
   "metadata": {
    "collapsed": false
   },
   "outputs": [
    {
     "name": "stdout",
     "output_type": "stream",
     "text": [
      "MultiIndex(levels=[[1, 2], ['blue', 'red']],\n",
      "           labels=[[0, 0, 1, 1], [1, 0, 1, 0]],\n",
      "           names=['number', 'color'])\n"
     ]
    }
   ],
   "source": [
    "import pandas as pd\n",
    "\n",
    "arrays = [[1, 1, 2, 2], ['red', 'blue', 'red', 'blue']]\n",
    "mi1 = pd.MultiIndex.from_arrays(arrays, names=('number', 'color'))\n",
    "print(mi1)\n"
   ]
  },
  {
   "cell_type": "markdown",
   "metadata": {},
   "source": [
    "#### List를 level 형태로 전달시 \n",
    "\n",
    "    계층에 대한 이름(levels), 각 이름별 계층 위치(labels) 그리고 level에 대한 이름(names)\n"
   ]
  },
  {
   "cell_type": "code",
   "execution_count": 9,
   "metadata": {
    "collapsed": false
   },
   "outputs": [
    {
     "name": "stdout",
     "output_type": "stream",
     "text": [
      "MultiIndex(levels=[[0, 1], ['green', 'purple']],\n",
      "           labels=[[0, 0, 1, 1], [0, 1, 0, 1]],\n",
      "           names=['number', 'color'])\n"
     ]
    }
   ],
   "source": [
    "import pandas as pd\n",
    "\n",
    "numbers = [0, 1]\n",
    "colors = ['green', 'purple']\n",
    "mi2 = pd.MultiIndex.from_product([numbers, colors],names=['number', 'color'])\n",
    "print(mi2)\n"
   ]
  },
  {
   "cell_type": "markdown",
   "metadata": {},
   "source": [
    "### 내부 속성 조회 \n"
   ]
  },
  {
   "cell_type": "markdown",
   "metadata": {},
   "source": [
    "####  level 조회\n"
   ]
  },
  {
   "cell_type": "code",
   "execution_count": 11,
   "metadata": {
    "collapsed": false
   },
   "outputs": [
    {
     "name": "stdout",
     "output_type": "stream",
     "text": [
      "Int64Index([0, 1, 2], dtype='int64', name='numbers')\n",
      "Index(['a', 'b', 'c'], dtype='object', name='letters')\n",
      "DatetimeIndex(['2013-01-01', '2013-01-02', '2013-01-03'], dtype='datetime64[ns]', name='dates', freq='D')\n"
     ]
    }
   ],
   "source": [
    "import pandas as pd\n",
    "\n",
    "midx = pd.MultiIndex.from_product([list(range(3)),['a','b','c'],\n",
    "                                   pd.date_range('20130101',periods=3)],\n",
    "                                  names=['numbers','letters','dates'])\n",
    "print(midx.levels[0])\n",
    "print(midx.levels[1])\n",
    "print(midx.levels[2])\n"
   ]
  },
  {
   "cell_type": "code",
   "execution_count": 14,
   "metadata": {
    "collapsed": false
   },
   "outputs": [
    {
     "name": "stdout",
     "output_type": "stream",
     "text": [
      "Int64Index([0, 0, 0, 0, 0, 0, 0, 0, 0, 1, 1, 1, 1, 1, 1, 1, 1, 1, 2, 2, 2, 2,\n",
      "            2, 2, 2, 2, 2],\n",
      "           dtype='int64', name='numbers')\n",
      "Index(['a', 'a', 'a', 'b', 'b', 'b', 'c', 'c', 'c', 'a', 'a', 'a', 'b', 'b',\n",
      "       'b', 'c', 'c', 'c', 'a', 'a', 'a', 'b', 'b', 'b', 'c', 'c', 'c'],\n",
      "      dtype='object', name='letters')\n",
      "DatetimeIndex(['2013-01-01', '2013-01-02', '2013-01-03', '2013-01-01',\n",
      "               '2013-01-02', '2013-01-03', '2013-01-01', '2013-01-02',\n",
      "               '2013-01-03', '2013-01-01', '2013-01-02', '2013-01-03',\n",
      "               '2013-01-01', '2013-01-02', '2013-01-03', '2013-01-01',\n",
      "               '2013-01-02', '2013-01-03', '2013-01-01', '2013-01-02',\n",
      "               '2013-01-03', '2013-01-01', '2013-01-02', '2013-01-03',\n",
      "               '2013-01-01', '2013-01-02', '2013-01-03'],\n",
      "              dtype='datetime64[ns]', name='dates', freq='D')\n"
     ]
    }
   ],
   "source": [
    "print(midx.get_level_values(0))\n",
    "print(midx.get_level_values(1))\n",
    "print(midx.get_level_values(2))\n"
   ]
  },
  {
   "cell_type": "markdown",
   "metadata": {},
   "source": [
    "#### label 조회\n"
   ]
  },
  {
   "cell_type": "code",
   "execution_count": 12,
   "metadata": {
    "collapsed": false
   },
   "outputs": [
    {
     "name": "stdout",
     "output_type": "stream",
     "text": [
      "FrozenNDArray([0, 0, 0, 0, 0, 0, 0, 0, 0, 1, 1, 1, 1, 1, 1, 1, 1, 1, 2, 2, 2, 2, 2, 2, 2, 2, 2], dtype='int8')\n",
      "FrozenNDArray([0, 0, 0, 1, 1, 1, 2, 2, 2, 0, 0, 0, 1, 1, 1, 2, 2, 2, 0, 0, 0, 1, 1, 1, 2, 2, 2], dtype='int8')\n",
      "FrozenNDArray([0, 1, 2, 0, 1, 2, 0, 1, 2, 0, 1, 2, 0, 1, 2, 0, 1, 2, 0, 1, 2, 0, 1, 2, 0, 1, 2], dtype='int8')\n"
     ]
    }
   ],
   "source": [
    "print(midx.labels[0])\n",
    "print(midx.labels[1])\n",
    "print(midx.labels[2])\n"
   ]
  },
  {
   "cell_type": "markdown",
   "metadata": {},
   "source": [
    "#### names 조회 \n"
   ]
  },
  {
   "cell_type": "code",
   "execution_count": 15,
   "metadata": {
    "collapsed": false
   },
   "outputs": [
    {
     "name": "stdout",
     "output_type": "stream",
     "text": [
      "['numbers', 'letters', 'dates'] <class 'pandas.core.base.FrozenList'>\n",
      "1\n",
      "2\n"
     ]
    }
   ],
   "source": [
    "print(midx.names, type(midx.names))\n",
    "print(midx.names.index('letters'))\n",
    "print(midx.names.index('dates'))\n"
   ]
  },
  {
   "cell_type": "code",
   "execution_count": null,
   "metadata": {
    "collapsed": true
   },
   "outputs": [],
   "source": []
  }
 ],
 "metadata": {
  "kernelspec": {
   "display_name": "Python [conda root]",
   "language": "python",
   "name": "conda-root-py"
  },
  "language_info": {
   "codemirror_mode": {
    "name": "ipython",
    "version": 3
   },
   "file_extension": ".py",
   "mimetype": "text/x-python",
   "name": "python",
   "nbconvert_exporter": "python",
   "pygments_lexer": "ipython3",
   "version": "3.5.2"
  }
 },
 "nbformat": 4,
 "nbformat_minor": 1
}
